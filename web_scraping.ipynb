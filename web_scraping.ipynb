{
  "nbformat": 4,
  "nbformat_minor": 0,
  "metadata": {
    "colab": {
      "provenance": []
    },
    "kernelspec": {
      "name": "python3",
      "display_name": "Python 3"
    },
    "language_info": {
      "name": "python"
    }
  },
  "cells": [
    {
      "cell_type": "code",
      "source": [
        "import requests\n",
        "import pandas as pd\n",
        "from bs4 import BeautifulSoup\n",
        "import numpy as np"
      ],
      "metadata": {
        "id": "C-sIMTkaNQcY"
      },
      "execution_count": 108,
      "outputs": []
    },
    {
      "cell_type": "code",
      "source": [
        "# Function to extract product titles\n",
        "def extract_titles(soup):\n",
        "    \"\"\"Extract product titles from the HTML soup.\"\"\"\n",
        "    titles = []\n",
        "    for h2_tag in soup.find_all(\"h2\"):\n",
        "        span = h2_tag.find(\"span\")\n",
        "        if span and span.text.strip():\n",
        "            titles.append(span.text.strip())\n",
        "    return titles\n",
        "\n",
        "# Function to extract product prices\n",
        "def extract_price(soup):\n",
        "    \"\"\"Extract product prices from the HTML soup.\"\"\"\n",
        "    prices = []\n",
        "    for price_tag in soup.find_all(\"span\", attrs={\"class\": \"a-price-whole\"}):\n",
        "        if price_tag.text.strip():\n",
        "            prices.append(price_tag.text.strip())\n",
        "    return prices\n",
        "\n",
        "def extract_image_urls(soup):\n",
        "    image_urls = []\n",
        "    for img_tag in soup.find_all(\"img\"):\n",
        "        img_url = img_tag.get(\"src\")\n",
        "        if img_url and \"https://\" in img_url:\n",
        "            image_urls.append(img_url)\n",
        "    return image_urls\n",
        "\n",
        "def extract_ratings(soup):\n",
        "    ratings = []\n",
        "    # Find all i tags with the specified data-cy attribute\n",
        "    for rating_tag in soup.find_all(\"i\", attrs={\"data-cy\": \"reviews-ratings-slot\"}):\n",
        "        # Find the span tag inside the i tag\n",
        "        span = rating_tag.find(\"span\", class_=\"a-icon-alt\")\n",
        "        if span and span.text.strip():\n",
        "            ratings.append(span.text.strip())\n",
        "    return ratings\n"
      ],
      "metadata": {
        "id": "_Uz2FHArG6Qp"
      },
      "execution_count": 152,
      "outputs": []
    },
    {
      "cell_type": "code",
      "source": [
        "# Main section to run the scraping\n",
        "if __name__ == '__main__':\n",
        "    # Define URL and Headers to mimic browser requests\n",
        "    URL = \"https://www.amazon.in/s?k=samsung+under+20000+5g+phone&crid=1D9GVMTW0PQ82&sprefix=samsung+under%2Caps%2C366&ref=nb_sb_ss_ts-doa-p_5_13\"\n",
        "\n",
        "    HEADERS = {\n",
        "        \"User-Agent\": \"Mozilla/5.0 (Windows NT 10.0; Win64; x64) AppleWebKit/537.36 (KHTML, like Gecko) Chrome/119.0.0.0 Safari/537.36\",\n",
        "        \"Accept-Language\": \"en-US, en;q=0.5\"\n",
        "    }\n",
        "\n",
        "    try:\n",
        "        # HTTP Request to get the HTML content of the main search page\n",
        "        webpage = requests.get(URL, headers=HEADERS)\n",
        "\n",
        "        if webpage.status_code != 200:\n",
        "            print(f\"Failed to fetch the main page. Status code: {webpage.status_code}\")\n",
        "            exit()\n",
        "\n",
        "        # Parse the HTML content with BeautifulSoup\n",
        "        soup = BeautifulSoup(webpage.content, \"html.parser\")\n",
        "\n",
        "        # Dictionary to store extracted product details\n",
        "        d = {\n",
        "            \"Title\": [], \"Price\": [], \"Image_URL\": [], \"Ratings\": []\n",
        "        }\n",
        "\n",
        "        # Extract product titles and prices using the functions\n",
        "        product_titles = extract_titles(soup)\n",
        "        product_prices = extract_price(soup)\n",
        "        product_image_urls = extract_image_urls(soup)\n",
        "        product_ratings = extract_ratings(soup)\n",
        "\n",
        "        # Ensure that the lists have the same length\n",
        "        min_length = min(len(product_titles), len(product_prices), len(product_image_urls), len(product_ratings))\n",
        "        d['Title'] = product_titles[:min_length]\n",
        "        d['Price'] = product_prices[:min_length]\n",
        "        d['Image_URL'] = product_image_urls[:min_length]\n",
        "        d['Ratings'] = product_ratings[:min_length]\n",
        "\n",
        "        # Convert dictionary to a DataFrame\n",
        "        amazon_df2 = pd.DataFrame.from_dict(d)\n",
        "\n",
        "        # Save the DataFrame to a CSV file\n",
        "        amazon_df2.to_csv(\"amazon_data.csv\", header=True, index=False)\n",
        "        print(\"Data successfully saved to 'amazon_data.csv'.\")\n",
        "\n",
        "        print(amazon_df2)\n",
        "\n",
        "    except requests.RequestException as e:\n",
        "        print(f\"An error occurred while making the request: {e}\")\n",
        "\n",
        "    except Exception as ex:\n",
        "        print(f\"An unexpected error occurred: {ex}\")\n"
      ],
      "metadata": {
        "colab": {
          "base_uri": "https://localhost:8080/"
        },
        "id": "JNq6QiTsjXoD",
        "outputId": "58d71e03-40bc-44ff-b987-9fbf743f7794"
      },
      "execution_count": 154,
      "outputs": [
        {
          "output_type": "stream",
          "name": "stdout",
          "text": [
            "Data successfully saved to 'amazon_data.csv'.\n",
            "                                                Title   Price  \\\n",
            "0                             1-16 of 446 results for  16,499   \n",
            "1   Samsung Galaxy A16 5G (Light Green, 6GB RAM, 1...  12,999   \n",
            "2   Samsung Galaxy M15 5G Prime Edition (Stone Gre...  12,999   \n",
            "3   Samsung Galaxy M15 5G Prime Edition (Celestial...  17,999   \n",
            "4   OnePlus Nord CE4 Lite 5G (Super Silver, 8GB RA...  11,609   \n",
            "5   Samsung Galaxy A14 5G (Dark Red, 4GB, 128GB St...  17,490   \n",
            "6   Samsung Galaxy M33 5G (Mystique Green, 8GB, 12...  12,999   \n",
            "7   Samsung Galaxy M15 5G Prime Edition (Blue Topa...  19,287   \n",
            "8      Samsung Galaxy f55 5g Apricot Crush 8GB 128 GB  14,499   \n",
            "9   Samsung Galaxy M15 5G Prime Edition (Celestial...  11,999   \n",
            "10  Samsung Galaxy M15 5G Prime Edition (Stone Gre...  14,499   \n",
            "11  Samsung Galaxy M15 5G Prime Edition (Blue Topa...  19,990   \n",
            "12  Samsung Galaxy M53 5G (Deep Ocean Blue, 6GB, 1...  11,999   \n",
            "13  Samsung Galaxy M15 5G Prime Edition (Celestial...  16,088   \n",
            "14  Samsung Galaxy A16 5G (Blue Black, 6GB RAM, 12...  15,499   \n",
            "15  Samsung Galaxy A15 5G (Blue Black, 6GB, 128GB ...  14,499   \n",
            "\n",
            "                                            Image_URL             Ratings  \n",
            "0   https://m.media-amazon.com/images/G/31/gno/spr...  3.8 out of 5 stars  \n",
            "1   https://m.media-amazon.com/images/S/al-eu-726f...  3.9 out of 5 stars  \n",
            "2   https://m.media-amazon.com/images/S/al-eu-726f...  3.9 out of 5 stars  \n",
            "3   https://m.media-amazon.com/images/S/al-eu-726f...  4.1 out of 5 stars  \n",
            "4   https://m.media-amazon.com/images/I/71z4VMabjg...  3.9 out of 5 stars  \n",
            "5   https://m.media-amazon.com/images/I/81oKOk65Tg...  4.1 out of 5 stars  \n",
            "6   https://m.media-amazon.com/images/I/81LJaRu0cZ...  3.9 out of 5 stars  \n",
            "7   https://m.media-amazon.com/images/I/61Io5-ojWU...  2.9 out of 5 stars  \n",
            "8   https://m.media-amazon.com/images/I/812-qrt9U3...  3.9 out of 5 stars  \n",
            "9   https://m.media-amazon.com/images/I/81I3w4J6yj...  3.9 out of 5 stars  \n",
            "10  https://m.media-amazon.com/images/I/81scQ7qlPu...  3.9 out of 5 stars  \n",
            "11  https://m.media-amazon.com/images/I/61NJIqWzSc...  4.0 out of 5 stars  \n",
            "12  https://m.media-amazon.com/images/I/81LJaRu0cZ...  3.9 out of 5 stars  \n",
            "13  https://m.media-amazon.com/images/I/81oKOk65Tg...  3.8 out of 5 stars  \n",
            "14  https://m.media-amazon.com/images/I/81scQ7qlPu...  3.9 out of 5 stars  \n",
            "15  https://m.media-amazon.com/images/I/81yL2dXKTH...  3.9 out of 5 stars  \n"
          ]
        }
      ]
    },
    {
      "cell_type": "code",
      "source": [],
      "metadata": {
        "id": "dN8fkECr7IEt"
      },
      "execution_count": 142,
      "outputs": []
    },
    {
      "cell_type": "code",
      "source": [],
      "metadata": {
        "id": "CnUk0kipCoNJ"
      },
      "execution_count": null,
      "outputs": []
    }
  ]
}